{
 "cells": [
  {
   "cell_type": "code",
   "execution_count": 2,
   "id": "c9245c66",
   "metadata": {},
   "outputs": [],
   "source": [
    "# ques 1\n",
    "# required function:\n",
    "# took file name (e.g. 'abc.txt') as argument\n",
    "def edit_file(file_name):\n",
    "    print('Text to replace:  ')\n",
    "    text = input()\n",
    "    print('Text to replace with:  ')\n",
    "    new_text = input()\n",
    "    # Read in the file\n",
    "    with open(file_name, 'r') as file :\n",
    "      file_data = file.read()\n",
    "\n",
    "    # Replace the target string\n",
    "    file_data = file_data.replace(text, new_text)\n",
    "\n",
    "    # Write the file out again\n",
    "    with open(file_name, 'w') as file:\n",
    "      file.write(file_data)    "
   ]
  },
  {
   "cell_type": "code",
   "execution_count": null,
   "id": "b3d34dc4",
   "metadata": {},
   "outputs": [],
   "source": [
    "# ques 2\n",
    "# example of abstract class\n",
    "from abc import ABC, abstractmethod\n",
    "class Shopping(ABC):\n",
    "    @abstractmethod\n",
    "    def purchased_item(self):\n",
    "        pass"
   ]
  },
  {
   "cell_type": "code",
   "execution_count": 3,
   "id": "f19f6642",
   "metadata": {},
   "outputs": [
    {
     "name": "stdout",
     "output_type": "stream",
     "text": [
      "It is eraser to erase blue pen\n",
      "It is a blue gel pen\n",
      "It is a blue ball pen\n",
      "Blue pen is in pencil_box\n"
     ]
    }
   ],
   "source": [
    "# ques 2\n",
    "# example of multiple inheritence\n",
    "class blue_pen:\n",
    "    def pencil_box(self):\n",
    "        print(\"Blue pen is in pencil_box\") \n",
    "      \n",
    "class blue_gel(blue_pen):\n",
    "    def pencil_box(self):\n",
    "        print(\"It is a blue gel pen\")\n",
    " \n",
    "class blue_ball(blue_pen):\n",
    "    def pencil_box(self):\n",
    "        print(\"It is a blue ball pen\")\n",
    "     \n",
    "class Eraser(blue_gel,blue_ball):\n",
    "    def pencil_box(self):\n",
    "        print(\"It is eraser to erase blue pen\")\n",
    "        blue_gel.pencil_box(self)\n",
    "        blue_ball.pencil_box(self)\n",
    "        blue_pen.pencil_box(self)\n",
    " \n",
    "raju_geometry = Eraser()\n",
    "raju_geometry.pencil_box()"
   ]
  },
  {
   "cell_type": "code",
   "execution_count": 4,
   "id": "564ba660",
   "metadata": {},
   "outputs": [
    {
     "name": "stdout",
     "output_type": "stream",
     "text": [
      "Execution is not started yet\n",
      "Inside the function\n",
      "Execution is completed\n",
      "Result = 12\n"
     ]
    }
   ],
   "source": [
    "# ques 2\n",
    "# example of decorator\n",
    "def decorator_eg(func):\n",
    "    def inner_function(*args, **kwargs):\n",
    "         \n",
    "        print(\"Execution is not started yet\")\n",
    "         \n",
    "        # getting the returned value\n",
    "        output_value = func(*args, **kwargs)\n",
    "        print(\"Execution is completed\")\n",
    "         \n",
    "        # returning the value to the original frame\n",
    "        return output_value\n",
    "         \n",
    "    return inner_function\n",
    " \n",
    " \n",
    "# adding decorator to the function\n",
    "@decorator_eg\n",
    "def concatenation_strings(a, b):\n",
    "    print(\"Inside the function\")\n",
    "    return str(a) + str(b)\n",
    " \n",
    "a, b = 1, 2\n",
    " \n",
    "# getting the value through return of the function\n",
    "print(\"Result =\", concatenation_strings(a, b))"
   ]
  },
  {
   "cell_type": "code",
   "execution_count": null,
   "id": "d42a9f4c",
   "metadata": {},
   "outputs": [],
   "source": []
  }
 ],
 "metadata": {
  "kernelspec": {
   "display_name": "Python 3 (ipykernel)",
   "language": "python",
   "name": "python3"
  },
  "language_info": {
   "codemirror_mode": {
    "name": "ipython",
    "version": 3
   },
   "file_extension": ".py",
   "mimetype": "text/x-python",
   "name": "python",
   "nbconvert_exporter": "python",
   "pygments_lexer": "ipython3",
   "version": "3.9.7"
  }
 },
 "nbformat": 4,
 "nbformat_minor": 5
}
